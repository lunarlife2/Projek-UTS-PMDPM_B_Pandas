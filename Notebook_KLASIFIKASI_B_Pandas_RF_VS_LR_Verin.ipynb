{
 "cells": [
  {
   "cell_type": "code",
   "execution_count": null,
   "metadata": {},
   "outputs": [],
   "source": [
    "import pandas as pd\n",
    "import numpy as np\n",
    "\n",
    "df_properti = pd.read_csv('Dataset UTS_Gasal 2425.csv')\n",
    "df_properti.head(20)"
   ]
  },
  {
   "cell_type": "code",
   "execution_count": null,
   "metadata": {},
   "outputs": [],
   "source": [
    "df_properti2=df_properti.drop('price',axis=1)\n",
    "df_properti2.head(10)"
   ]
  },
  {
   "cell_type": "code",
   "execution_count": null,
   "metadata": {},
   "outputs": [],
   "source": [
    "df_properti2.info()"
   ]
  },
  {
   "cell_type": "code",
   "execution_count": null,
   "metadata": {},
   "outputs": [],
   "source": [
    "df_properti2.describe()"
   ]
  },
  {
   "cell_type": "code",
   "execution_count": null,
   "metadata": {},
   "outputs": [],
   "source": [
    "df_properti2['category'].value_counts()"
   ]
  },
  {
   "cell_type": "code",
   "execution_count": null,
   "metadata": {},
   "outputs": [],
   "source": [
    "print(\"data null \\n\",df_properti2.isnull().sum())\n",
    "print(\"\\ndata kosong \\n\",df_properti2.empty)\n",
    "print(\"\\ndata nan \\n\",df_properti2.isna().sum())"
   ]
  },
  {
   "cell_type": "code",
   "execution_count": null,
   "metadata": {},
   "outputs": [],
   "source": [
    "from pandas.api.types import is_numeric_dtype\n",
    "def remove_outlier(df_in):\n",
    "    for col_name in list(df_in.columns):\n",
    "        if is_numeric_dtype(df_in[col_name]):\n",
    "            q1 = df_in[col_name].quantile(0.25)\n",
    "            q3 = df_in[col_name].quantile(0.75)\n",
    "\n",
    "            iqr = q3 - q1\n",
    "            batas_atas = q3 + (1.5 * iqr)\n",
    "            batas_bawah = q1 - (1.5 * iqr)\n",
    "\n",
    "            df_out = df_in.loc[(df_in[col_name] >= batas_bawah) & (df_in[col_name] <= batas_atas)]\n",
    "    return df_out\n",
    "\n",
    "df_properti_clean = remove_outlier(df_properti2)\n",
    "print(\"jumlah baris dataframe sebelum dibuang outlier\", df_properti2.shape[0])\n",
    "print(\"jumlah baris dataframe sesudah dibuang outlier\", df_properti_clean.shape[0])"
   ]
  },
  {
   "cell_type": "code",
   "execution_count": null,
   "metadata": {},
   "outputs": [],
   "source": [
    "print(\"sebelum drop missing value\",df_properti2.shape)\n",
    "df_properti2 = df_properti2.dropna(how='any',inplace=False)\n",
    "print(\"setelah drop missing value\",df_properti2.shape)"
   ]
  },
  {
   "cell_type": "code",
   "execution_count": null,
   "metadata": {},
   "outputs": [],
   "source": [
    "print(\"sebelum pengecekan data duplikat, \", df_properti2.shape)\n",
    "df_properti3=df_properti2.drop_duplicates(keep='last')\n",
    "print(\"setelah pengecekan data duplikat, \", df_properti3.shape)"
   ]
  },
  {
   "cell_type": "code",
   "execution_count": null,
   "metadata": {},
   "outputs": [],
   "source": [
    "from sklearn.model_selection import train_test_split\n",
    "\n",
    "x = df_properti3.drop(columns=['category'],axis=1)\n",
    "y = df_properti3['category']\n",
    "\n",
    "x_train, x_test, y_train, y_test = train_test_split(x,y,test_size=0.3,random_state=57)\n",
    "\n",
    "print(x_train.shape)\n",
    "print(x_test.shape)\n",
    "print(y_train.shape)\n",
    "print(y_test.shape)"
   ]
  },
  {
   "cell_type": "code",
   "execution_count": null,
   "metadata": {},
   "outputs": [],
   "source": [
    "from sklearn.preprocessing import LabelEncoder\n",
    "\n",
    "label_encoder = LabelEncoder()\n",
    "\n",
    "kolom_kategori=['hasyard','haspool','isnewbuilt','hasstormprotector','hasstorageroom']\n",
    "\n",
    "for col in kolom_kategori:\n",
    "    x_train[col] = label_encoder.fit_transform(x_train[col])\n",
    "    x_test[col] = label_encoder.fit_transform(x_test[col])\n",
    "\n",
    "df_train_enc = pd.DataFrame(x_train)\n",
    "df_test_enc = pd.DataFrame(x_test)\n",
    "\n",
    "df_train_enc.head(10)\n",
    "df_test_enc.head(10)"
   ]
  },
  {
   "cell_type": "code",
   "execution_count": null,
   "metadata": {},
   "outputs": [],
   "source": [
    "y_train_enc = label_encoder.fit_transform(y_train)\n",
    "y_test_enc = label_encoder.fit_transform(y_test)\n",
    "\n",
    "df_y_train_enc = pd.DataFrame(y_train_enc)\n",
    "df_y_test_enc = pd.DataFrame(y_test_enc)\n",
    "\n",
    "df_y_train_enc.head(10)\n",
    "df_y_test_enc.head(10)"
   ]
  },
  {
   "cell_type": "code",
   "execution_count": null,
   "metadata": {},
   "outputs": [],
   "source": [
    "from sklearn.preprocessing import MinMaxScaler, StandardScaler\n",
    "from sklearn.ensemble import RandomForestClassifier\n",
    "from sklearn.feature_selection import SelectKBest, SelectPercentile\n",
    "from sklearn.pipeline import Pipeline\n",
    "from sklearn.model_selection import GridSearchCV, StratifiedKFold\n",
    "import numpy as np\n",
    "\n",
    "pipe_RF = [\n",
    "    ('data scaling', StandardScaler()),\n",
    "    ('feature select',SelectKBest()),\n",
    "    ('clf',RandomForestClassifier(random_state=57, class_weight='balanced'))\n",
    "]\n",
    "\n",
    "params_grid_RF = [\n",
    "    {\n",
    "        'data scaling':[StandardScaler()],\n",
    "        'feature select__k': np.arange(2,6),\n",
    "        'clf__max_depth': np.arange(2,4),\n",
    "        'clf__n_estimators':[200,300]\n",
    "    },\n",
    "    {\n",
    "        'data scaling':[StandardScaler()],\n",
    "        'feature select':[SelectPercentile()],\n",
    "        'feature select__percentile': np.arange(20,50),\n",
    "        'clf__max_depth': np.arange(2,4),\n",
    "        'clf__n_estimators':[200,300]\n",
    "    },\n",
    "    {\n",
    "        'data scaling':[MinMaxScaler()],\n",
    "        'feature select__k': np.arange(2,6),\n",
    "        'clf__max_depth': np.arange(2,4),\n",
    "        'clf__n_estimators':[200,300]\n",
    "    },\n",
    "    {\n",
    "        'data scaling':[MinMaxScaler()],\n",
    "        'feature select':[SelectPercentile()],\n",
    "        'feature select__percentile': np.arange(20,50),\n",
    "        'clf__max_depth': np.arange(2,4),\n",
    "        'clf__n_estimators':[200,300]\n",
    "    }\n",
    "]\n",
    "\n",
    "estimator_RF = Pipeline(pipe_RF)\n",
    "\n",
    "SKF = StratifiedKFold(n_splits=5,shuffle=True,random_state=57)\n",
    "\n",
    "GSCV_RF = GridSearchCV(estimator_RF,params_grid_RF,cv=SKF,n_jobs=-1)\n",
    "GSCV_RF.fit(x_train,y_train_enc)\n",
    "print(\"GSCV finished\")"
   ]
  },
  {
   "cell_type": "code",
   "execution_count": null,
   "metadata": {},
   "outputs": [],
   "source": [
    "print(\"CV Score: {}\".format(GSCV_RF.best_score_))\n",
    "print(\"Test Score: {}\".format(GSCV_RF.best_estimator_.score(x_test, y_test_enc)))\n",
    "print(\"Best Model: \",GSCV_RF.best_estimator_)\n",
    "\n",
    "mask = GSCV_RF.best_estimator_.named_steps['feature select'].get_support()\n",
    "print(\"Best Features: \", df_train_enc.columns[mask])\n",
    "\n",
    "RF_pred = GSCV_RF.predict(x_test)\n",
    "\n",
    "import matplotlib.pyplot as plt\n",
    "from sklearn.metrics import confusion_matrix, ConfusionMatrixDisplay, classification_report\n",
    "cm = confusion_matrix(y_test_enc, RF_pred, labels=GSCV_RF.classes_)\n",
    "\n",
    "disp = ConfusionMatrixDisplay(confusion_matrix=cm, display_labels=GSCV_RF.classes_)\n",
    "disp.plot()\n",
    "\n",
    "plt.title(\"Random Forest Confusion Matrix\")\n",
    "plt.show()\n",
    "print(\"Classification report RF: \\n\", classification_report(y_test_enc, RF_pred))"
   ]
  },
  {
   "cell_type": "code",
   "execution_count": 19,
   "metadata": {},
   "outputs": [
    {
     "name": "stdout",
     "output_type": "stream",
     "text": [
      "GSCV finished\n"
     ]
    }
   ],
   "source": [
    "from sklearn.preprocessing import MinMaxScaler, StandardScaler\n",
    "from sklearn.linear_model import LogisticRegression\n",
    "from sklearn.feature_selection import SelectKBest, SelectPercentile\n",
    "from sklearn.pipeline import Pipeline\n",
    "from sklearn.model_selection import GridSearchCV, StratifiedKFold\n",
    "import numpy as np\n",
    "\n",
    "pipe_LR = [\n",
    "    ('data scaling', StandardScaler()),\n",
    "    ('feature select', SelectKBest()),\n",
    "    ('clf', LogisticRegression(random_state=57, class_weight='balanced', max_iter=1000))\n",
    "]\n",
    "\n",
    "params_grid_LR = [\n",
    "    {\n",
    "        'data scaling': [StandardScaler()],\n",
    "        'feature select__k': np.arange(2, 6),\n",
    "        'clf__C': [0.1, 1, 10],\n",
    "        'clf__penalty': ['l2']\n",
    "    },\n",
    "    {\n",
    "        'data scaling': [StandardScaler()],\n",
    "        'feature select': [SelectPercentile()],\n",
    "        'feature select__percentile': np.arange(20, 50),\n",
    "        'clf__C': [0.1, 1, 10],\n",
    "        'clf__penalty': ['l2']\n",
    "    },\n",
    "    {\n",
    "        'data scaling': [MinMaxScaler()],\n",
    "        'feature select__k': np.arange(2, 6),\n",
    "        'clf__C': [0.1, 1, 10],\n",
    "        'clf__penalty': ['l2']\n",
    "    },\n",
    "    {\n",
    "        'data scaling': [MinMaxScaler()],\n",
    "        'feature select': [SelectPercentile()],\n",
    "        'feature select__percentile': np.arange(20, 50),\n",
    "        'clf__C': [0.1, 1, 10],\n",
    "        'clf__penalty': ['l2']\n",
    "    }\n",
    "]\n",
    "\n",
    "estimator_LR = Pipeline(pipe_LR)\n",
    "\n",
    "SKF = StratifiedKFold(n_splits=5, shuffle=True, random_state=57)\n",
    "\n",
    "GSCV_LR = GridSearchCV(estimator_LR, params_grid_LR, cv=SKF)\n",
    "GSCV_LR.fit(x_train, y_train_enc)\n",
    "print(\"GSCV finished\")\n"
   ]
  },
  {
   "cell_type": "code",
   "execution_count": 20,
   "metadata": {},
   "outputs": [
    {
     "name": "stdout",
     "output_type": "stream",
     "text": [
      "CV Score: 0.883\n",
      "Test Score: 0.889\n",
      "Best Model:  Pipeline(steps=[('data scaling', StandardScaler()),\n",
      "                ('feature select', SelectPercentile(percentile=41)),\n",
      "                ('clf',\n",
      "                 LogisticRegression(C=10, class_weight='balanced',\n",
      "                                    max_iter=1000, random_state=57))])\n",
      "Best Features:  Index(['squaremeters', 'numberofrooms', 'hasyard', 'haspool', 'citycode',\n",
      "       'isnewbuilt', 'basement'],\n",
      "      dtype='object')\n"
     ]
    },
    {
     "data": {
      "image/png": "[encoded data removed]",
      "text/plain": [
       "<Figure size 640x480 with 2 Axes>"
      ]
     },
     "metadata": {},
     "output_type": "display_data"
    },
    {
     "name": "stdout",
     "output_type": "stream",
     "text": [
      "Classification report LR: \n",
      "               precision    recall  f1-score   support\n",
      "\n",
      "           0       0.91      0.83      0.87      1275\n",
      "           1       1.00      1.00      1.00       950\n",
      "           2       0.75      0.86      0.80       775\n",
      "\n",
      "    accuracy                           0.89      3000\n",
      "   macro avg       0.88      0.89      0.89      3000\n",
      "weighted avg       0.89      0.89      0.89      3000\n",
      "\n"
     ]
    }
   ],
   "source": [
    "print(\"CV Score: {}\".format(GSCV_LR.best_score_))\n",
    "print(\"Test Score: {}\".format(GSCV_LR.best_estimator_.score(x_test, y_test_enc)))\n",
    "print(\"Best Model: \",GSCV_LR.best_estimator_)\n",
    "\n",
    "mask = GSCV_LR.best_estimator_.named_steps['feature select'].get_support()\n",
    "print(\"Best Features: \", df_train_enc.columns[mask])\n",
    "\n",
    "LR_pred = GSCV_LR.predict(x_test)\n",
    "\n",
    "import matplotlib.pyplot as plt\n",
    "\n",
    "cm = confusion_matrix(y_test_enc, LR_pred, labels=GSCV_LR.classes_)\n",
    "\n",
    "disp = ConfusionMatrixDisplay(confusion_matrix=cm, display_labels=GSCV_LR.classes_)\n",
    "disp.plot()\n",
    "\n",
    "plt.title(\"LR Confusion Matrix\")\n",
    "plt.show()\n",
    "print(\"Classification report LR: \\n\", classification_report(y_test_enc, LR_pred))"
   ]
  },
  {
   "cell_type": "code",
   "execution_count": 21,
   "metadata": {},
   "outputs": [
    {
     "name": "stdout",
     "output_type": "stream",
     "text": [
      "Model LR berhasil disimpan\n"
     ]
    }
   ],
   "source": [
    "import pickle\n",
    "\n",
    "with open('BestModel_CLF_LR_Pandas.pkl','wb') as r:\n",
    "    pickle.dump((GSCV_LR),r)\n",
    "\n",
    "print(\"Model LR berhasil disimpan\")"
   ]
  }
 ],
 "metadata": {
  "kernelspec": {
   "display_name": "base",
   "language": "python",
   "name": "python3"
  },
  "language_info": {
   "codemirror_mode": {
    "name": "ipython",
    "version": 3
   },
   "file_extension": ".py",
   "mimetype": "text/x-python",
   "name": "python",
   "nbconvert_exporter": "python",
   "pygments_lexer": "ipython3",
   "version": "3.12.4"
  }
 },
 "nbformat": 4,
 "nbformat_minor": 2
}
